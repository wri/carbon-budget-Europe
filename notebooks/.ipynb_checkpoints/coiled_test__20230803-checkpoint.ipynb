{
 "cells": [
  {
   "cell_type": "markdown",
   "id": "069e6038-4e89-48e1-8949-2619ad395aa7",
   "metadata": {},
   "source": [
    "Test from Justin Terry via Slack 2023-07-24"
   ]
  },
  {
   "cell_type": "code",
   "execution_count": 1,
   "id": "49c05167-2129-4985-89dd-6362552d94d3",
   "metadata": {},
   "outputs": [],
   "source": [
    "import dask\n",
    "import coiled\n",
    "from dask.distributed import Client"
   ]
  },
  {
   "cell_type": "code",
   "execution_count": 2,
   "id": "726928c0-54e1-4fd0-90b9-6a2e503021a2",
   "metadata": {},
   "outputs": [
    {
     "data": {
      "application/vnd.jupyter.widget-view+json": {
       "model_id": "53b5b7a3a7ee4838bf365819a226031e",
       "version_major": 2,
       "version_minor": 0
      },
      "text/plain": [
       "Output()"
      ]
     },
     "metadata": {},
     "output_type": "display_data"
    },
    {
     "data": {
      "text/html": [
       "<pre style=\"white-space:pre;overflow-x:auto;line-height:normal;font-family:Menlo,'DejaVu Sans Mono',consolas,'Courier New',monospace\"></pre>\n"
      ],
      "text/plain": []
     },
     "metadata": {},
     "output_type": "display_data"
    },
    {
     "data": {
      "text/html": [
       "<pre style=\"white-space:pre;overflow-x:auto;line-height:normal;font-family:Menlo,'DejaVu Sans Mono',consolas,'Courier New',monospace\">╭────────────────────────────────────────── <span style=\"color: #008000; text-decoration-color: #008000; font-weight: bold\">Package Info</span> ──────────────────────────────────────────╮\n",
       "│                                   ╷                                                              │\n",
       "│  <span style=\"font-weight: bold\"> Package                         </span>│<span style=\"font-weight: bold\"> Note                                                       </span>  │\n",
       "│ ╶─────────────────────────────────┼────────────────────────────────────────────────────────────╴ │\n",
       "│   coiled_local_carbon_notebook_v2 │ Source wheel built from                                      │\n",
       "│                                   │ C:\\Users\\david.gibbs\\AppData\\Local\\anaconda3\\envs\\carbon_n   │\n",
       "│                                   │ otebook_v2 is missing Lib\\__future__.py, Lib\\__hello__.py,   │\n",
       "│                                   │ Lib\\__phello__\\__init__.py,                                  │\n",
       "│                                   │ Lib\\__phello__\\ham\\__init__.py,                              │\n",
       "│                                   │ Lib\\__phello__\\ham\\eggs.py, Lib\\__phello__\\spam.py,          │\n",
       "│                                   │ Lib\\_aix_support.py, Lib\\_bootsubprocess.py,                 │\n",
       "│                                   │ Lib\\_collections_abc.py, Lib\\_compat_pickle.py               │\n",
       "│                                   ╵                                                              │\n",
       "╰──────────────────────────────────────────────────────────────────────────────────────────────────╯\n",
       "</pre>\n"
      ],
      "text/plain": [
       "╭────────────────────────────────────────── \u001b[1;32mPackage Info\u001b[0m ──────────────────────────────────────────╮\n",
       "│                                   ╷                                                              │\n",
       "│  \u001b[1m \u001b[0m\u001b[1mPackage                        \u001b[0m\u001b[1m \u001b[0m│\u001b[1m \u001b[0m\u001b[1mNote                                                      \u001b[0m\u001b[1m \u001b[0m  │\n",
       "│ ╶─────────────────────────────────┼────────────────────────────────────────────────────────────╴ │\n",
       "│   coiled_local_carbon_notebook_v2 │ Source wheel built from                                      │\n",
       "│                                   │ C:\\Users\\david.gibbs\\AppData\\Local\\anaconda3\\envs\\carbon_n   │\n",
       "│                                   │ otebook_v2 is missing Lib\\__future__.py, Lib\\__hello__.py,   │\n",
       "│                                   │ Lib\\__phello__\\__init__.py,                                  │\n",
       "│                                   │ Lib\\__phello__\\ham\\__init__.py,                              │\n",
       "│                                   │ Lib\\__phello__\\ham\\eggs.py, Lib\\__phello__\\spam.py,          │\n",
       "│                                   │ Lib\\_aix_support.py, Lib\\_bootsubprocess.py,                 │\n",
       "│                                   │ Lib\\_collections_abc.py, Lib\\_compat_pickle.py               │\n",
       "│                                   ╵                                                              │\n",
       "╰──────────────────────────────────────────────────────────────────────────────────────────────────╯\n"
      ]
     },
     "metadata": {},
     "output_type": "display_data"
    },
    {
     "data": {
      "application/vnd.jupyter.widget-view+json": {
       "model_id": "5cc72102843a4f6db8bdef1b6f5d4178",
       "version_major": 2,
       "version_minor": 0
      },
      "text/plain": [
       "Output()"
      ]
     },
     "metadata": {},
     "output_type": "display_data"
    },
    {
     "data": {
      "text/html": [
       "<pre style=\"white-space:pre;overflow-x:auto;line-height:normal;font-family:Menlo,'DejaVu Sans Mono',consolas,'Courier New',monospace\"></pre>\n"
      ],
      "text/plain": []
     },
     "metadata": {},
     "output_type": "display_data"
    }
   ],
   "source": [
    "cluster = coiled.Cluster(\n",
    "    n_workers=10,\n",
    "    use_best_zone=True, \n",
    "    compute_purchase_option=\"spot_with_fallback\",\n",
    "    account='jterry64'   # Necessary to use the AWS environment that Justin set up in Coiled\n",
    ")"
   ]
  },
  {
   "cell_type": "code",
   "execution_count": null,
   "id": "2d61f1ef-b87e-4489-ac8b-1280a1aa7b82",
   "metadata": {},
   "outputs": [],
   "source": [
    "client = Client(cluster)"
   ]
  },
  {
   "cell_type": "markdown",
   "id": "46bd23fd-5ec0-4c37-9bb2-461eb89ea67d",
   "metadata": {},
   "source": [
    "Test from https://cloud.coiled.io/clusters?account=jterry64"
   ]
  },
  {
   "cell_type": "code",
   "execution_count": 4,
   "id": "41292829-6cb8-44ba-8a79-4b3320231b95",
   "metadata": {},
   "outputs": [],
   "source": [
    "client = cluster.get_client()"
   ]
  },
  {
   "cell_type": "code",
   "execution_count": 5,
   "id": "b9880715-1244-4ea9-b097-b2df2ee0ae48",
   "metadata": {},
   "outputs": [
    {
     "data": {
      "text/html": [
       "<div>\n",
       "<style scoped>\n",
       "    .dataframe tbody tr th:only-of-type {\n",
       "        vertical-align: middle;\n",
       "    }\n",
       "\n",
       "    .dataframe tbody tr th {\n",
       "        vertical-align: top;\n",
       "    }\n",
       "\n",
       "    .dataframe thead th {\n",
       "        text-align: right;\n",
       "    }\n",
       "</style>\n",
       "<table border=\"1\" class=\"dataframe\">\n",
       "  <thead>\n",
       "    <tr style=\"text-align: right;\">\n",
       "      <th></th>\n",
       "      <th>x</th>\n",
       "      <th>y</th>\n",
       "    </tr>\n",
       "    <tr>\n",
       "      <th>name</th>\n",
       "      <th></th>\n",
       "      <th></th>\n",
       "    </tr>\n",
       "  </thead>\n",
       "  <tbody>\n",
       "    <tr>\n",
       "      <th>Norbert</th>\n",
       "      <td>-553.047194</td>\n",
       "      <td>1.000000</td>\n",
       "    </tr>\n",
       "    <tr>\n",
       "      <th>Alice</th>\n",
       "      <td>690.233091</td>\n",
       "      <td>1.000000</td>\n",
       "    </tr>\n",
       "    <tr>\n",
       "      <th>Frank</th>\n",
       "      <td>-643.447773</td>\n",
       "      <td>1.000000</td>\n",
       "    </tr>\n",
       "    <tr>\n",
       "      <th>Oliver</th>\n",
       "      <td>112.552201</td>\n",
       "      <td>1.000000</td>\n",
       "    </tr>\n",
       "    <tr>\n",
       "      <th>Patricia</th>\n",
       "      <td>1337.505973</td>\n",
       "      <td>1.000000</td>\n",
       "    </tr>\n",
       "    <tr>\n",
       "      <th>Victor</th>\n",
       "      <td>1348.669071</td>\n",
       "      <td>1.000000</td>\n",
       "    </tr>\n",
       "    <tr>\n",
       "      <th>Sarah</th>\n",
       "      <td>-316.715999</td>\n",
       "      <td>1.000000</td>\n",
       "    </tr>\n",
       "    <tr>\n",
       "      <th>Ursula</th>\n",
       "      <td>1512.252274</td>\n",
       "      <td>1.000000</td>\n",
       "    </tr>\n",
       "    <tr>\n",
       "      <th>Charlie</th>\n",
       "      <td>250.439631</td>\n",
       "      <td>1.000000</td>\n",
       "    </tr>\n",
       "    <tr>\n",
       "      <th>Quinn</th>\n",
       "      <td>-1344.518620</td>\n",
       "      <td>0.999999</td>\n",
       "    </tr>\n",
       "    <tr>\n",
       "      <th>Ray</th>\n",
       "      <td>-1511.601866</td>\n",
       "      <td>0.999999</td>\n",
       "    </tr>\n",
       "    <tr>\n",
       "      <th>Laura</th>\n",
       "      <td>1591.021181</td>\n",
       "      <td>0.999999</td>\n",
       "    </tr>\n",
       "    <tr>\n",
       "      <th>Xavier</th>\n",
       "      <td>-1770.844054</td>\n",
       "      <td>1.000000</td>\n",
       "    </tr>\n",
       "    <tr>\n",
       "      <th>Wendy</th>\n",
       "      <td>1892.330226</td>\n",
       "      <td>1.000000</td>\n",
       "    </tr>\n",
       "    <tr>\n",
       "      <th>Yvonne</th>\n",
       "      <td>-1251.803104</td>\n",
       "      <td>1.000000</td>\n",
       "    </tr>\n",
       "    <tr>\n",
       "      <th>George</th>\n",
       "      <td>1306.716560</td>\n",
       "      <td>0.999998</td>\n",
       "    </tr>\n",
       "    <tr>\n",
       "      <th>Bob</th>\n",
       "      <td>-343.978739</td>\n",
       "      <td>0.999999</td>\n",
       "    </tr>\n",
       "    <tr>\n",
       "      <th>Tim</th>\n",
       "      <td>-269.280563</td>\n",
       "      <td>1.000000</td>\n",
       "    </tr>\n",
       "    <tr>\n",
       "      <th>Hannah</th>\n",
       "      <td>938.340720</td>\n",
       "      <td>1.000000</td>\n",
       "    </tr>\n",
       "    <tr>\n",
       "      <th>Zelda</th>\n",
       "      <td>-1432.360593</td>\n",
       "      <td>0.999999</td>\n",
       "    </tr>\n",
       "    <tr>\n",
       "      <th>Kevin</th>\n",
       "      <td>1479.302837</td>\n",
       "      <td>1.000000</td>\n",
       "    </tr>\n",
       "    <tr>\n",
       "      <th>Jerry</th>\n",
       "      <td>-602.161858</td>\n",
       "      <td>1.000000</td>\n",
       "    </tr>\n",
       "    <tr>\n",
       "      <th>Ingrid</th>\n",
       "      <td>648.438608</td>\n",
       "      <td>1.000000</td>\n",
       "    </tr>\n",
       "    <tr>\n",
       "      <th>Edith</th>\n",
       "      <td>-669.339698</td>\n",
       "      <td>0.999998</td>\n",
       "    </tr>\n",
       "    <tr>\n",
       "      <th>Michael</th>\n",
       "      <td>2479.677333</td>\n",
       "      <td>1.000000</td>\n",
       "    </tr>\n",
       "    <tr>\n",
       "      <th>Dan</th>\n",
       "      <td>2325.214675</td>\n",
       "      <td>1.000000</td>\n",
       "    </tr>\n",
       "  </tbody>\n",
       "</table>\n",
       "</div>"
      ],
      "text/plain": [
       "                    x         y\n",
       "name                           \n",
       "Norbert   -553.047194  1.000000\n",
       "Alice      690.233091  1.000000\n",
       "Frank     -643.447773  1.000000\n",
       "Oliver     112.552201  1.000000\n",
       "Patricia  1337.505973  1.000000\n",
       "Victor    1348.669071  1.000000\n",
       "Sarah     -316.715999  1.000000\n",
       "Ursula    1512.252274  1.000000\n",
       "Charlie    250.439631  1.000000\n",
       "Quinn    -1344.518620  0.999999\n",
       "Ray      -1511.601866  0.999999\n",
       "Laura     1591.021181  0.999999\n",
       "Xavier   -1770.844054  1.000000\n",
       "Wendy     1892.330226  1.000000\n",
       "Yvonne   -1251.803104  1.000000\n",
       "George    1306.716560  0.999998\n",
       "Bob       -343.978739  0.999999\n",
       "Tim       -269.280563  1.000000\n",
       "Hannah     938.340720  1.000000\n",
       "Zelda    -1432.360593  0.999999\n",
       "Kevin     1479.302837  1.000000\n",
       "Jerry     -602.161858  1.000000\n",
       "Ingrid     648.438608  1.000000\n",
       "Edith     -669.339698  0.999998\n",
       "Michael   2479.677333  1.000000\n",
       "Dan       2325.214675  1.000000"
      ]
     },
     "execution_count": 5,
     "metadata": {},
     "output_type": "execute_result"
    },
    {
     "name": "stderr",
     "output_type": "stream",
     "text": [
      "2023-08-04 16:25:03,777 - distributed.client - ERROR - Failed to reconnect to scheduler after 30.00 seconds, closing client\n",
      "2023-08-04 16:27:16,425 - distributed.deploy.cluster - WARNING - Failed to sync cluster info multiple times - perhaps there's a connection issue? Error:\n",
      "Traceback (most recent call last):\n",
      "  File \"C:\\Users\\david.gibbs\\AppData\\Local\\anaconda3\\envs\\carbon_notebook_v2\\Lib\\site-packages\\distributed\\utils.py\", line 1922, in wait_for\n",
      "    return await fut\n",
      "           ^^^^^^^^^\n",
      "  File \"C:\\Users\\david.gibbs\\AppData\\Local\\anaconda3\\envs\\carbon_notebook_v2\\Lib\\site-packages\\distributed\\comm\\tcp.py\", line 491, in connect\n",
      "    stream = await self.client.connect(\n",
      "             ^^^^^^^^^^^^^^^^^^^^^^^^^^\n",
      "  File \"C:\\Users\\david.gibbs\\AppData\\Local\\anaconda3\\envs\\carbon_notebook_v2\\Lib\\site-packages\\tornado\\tcpclient.py\", line 279, in connect\n",
      "    af, addr, stream = await connector.start(connect_timeout=timeout)\n",
      "                       ^^^^^^^^^^^^^^^^^^^^^^^^^^^^^^^^^^^^^^^^^^^^^^\n",
      "asyncio.exceptions.CancelledError\n",
      "\n",
      "The above exception was the direct cause of the following exception:\n",
      "\n",
      "Traceback (most recent call last):\n",
      "  File \"C:\\Users\\david.gibbs\\AppData\\Local\\anaconda3\\envs\\carbon_notebook_v2\\Lib\\site-packages\\distributed\\comm\\core.py\", line 355, in connect\n",
      "    comm = await wait_for(\n",
      "           ^^^^^^^^^^^^^^^\n",
      "  File \"C:\\Users\\david.gibbs\\AppData\\Local\\anaconda3\\envs\\carbon_notebook_v2\\Lib\\site-packages\\distributed\\utils.py\", line 1921, in wait_for\n",
      "    async with asyncio.timeout(timeout):\n",
      "  File \"C:\\Users\\david.gibbs\\AppData\\Local\\anaconda3\\envs\\carbon_notebook_v2\\Lib\\asyncio\\timeouts.py\", line 111, in __aexit__\n",
      "    raise TimeoutError from exc_val\n",
      "TimeoutError\n",
      "\n",
      "The above exception was the direct cause of the following exception:\n",
      "\n",
      "Traceback (most recent call last):\n",
      "  File \"C:\\Users\\david.gibbs\\AppData\\Local\\anaconda3\\envs\\carbon_notebook_v2\\Lib\\site-packages\\distributed\\deploy\\cluster.py\", line 168, in _sync_cluster_info\n",
      "    await self.scheduler_comm.set_metadata(\n",
      "  File \"C:\\Users\\david.gibbs\\AppData\\Local\\anaconda3\\envs\\carbon_notebook_v2\\Lib\\site-packages\\distributed\\core.py\", line 1294, in send_recv_from_rpc\n",
      "    comm = await self.live_comm()\n",
      "           ^^^^^^^^^^^^^^^^^^^^^^\n",
      "  File \"C:\\Users\\david.gibbs\\AppData\\Local\\anaconda3\\envs\\carbon_notebook_v2\\Lib\\site-packages\\distributed\\core.py\", line 1253, in live_comm\n",
      "    comm = await connect(\n",
      "           ^^^^^^^^^^^^^^\n",
      "  File \"C:\\Users\\david.gibbs\\AppData\\Local\\anaconda3\\envs\\carbon_notebook_v2\\Lib\\site-packages\\distributed\\comm\\core.py\", line 381, in connect\n",
      "    raise OSError(\n",
      "OSError: Timed out trying to connect to tls://3.145.195.211:8786 after 30 s\n"
     ]
    }
   ],
   "source": [
    "# generate random timeseries of data\n",
    "df = dask.datasets.timeseries(\n",
    "    \"2000\", \"2005\", partition_freq=\"2w\"\n",
    ").persist()\n",
    "\n",
    "# perform a groupby with an aggregation\n",
    "df.groupby(\"name\").aggregate({\"x\": \"sum\", \"y\": \"max\"}).compute()"
   ]
  }
 ],
 "metadata": {
  "kernelspec": {
   "display_name": "Python 3 (ipykernel)",
   "language": "python",
   "name": "python3"
  },
  "language_info": {
   "codemirror_mode": {
    "name": "ipython",
    "version": 3
   },
   "file_extension": ".py",
   "mimetype": "text/x-python",
   "name": "python",
   "nbconvert_exporter": "python",
   "pygments_lexer": "ipython3",
   "version": "3.11.4"
  }
 },
 "nbformat": 4,
 "nbformat_minor": 5
}
