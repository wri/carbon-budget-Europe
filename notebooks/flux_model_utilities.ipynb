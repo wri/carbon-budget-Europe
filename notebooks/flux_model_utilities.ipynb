{
 "cells": [
  {
   "cell_type": "code",
   "execution_count": 2,
   "id": "774ab238-6abe-40cc-a07d-d29ba7283bbc",
   "metadata": {},
   "outputs": [],
   "source": [
    "from osgeo import gdal      # Necessary to do this import to get rasterio to import\n",
    "import rasterio\n",
    "import numpy as np\n",
    "import time"
   ]
  },
  {
   "cell_type": "code",
   "execution_count": 5,
   "id": "4c08e18e-2bc2-44c9-b488-2164568c56d9",
   "metadata": {},
   "outputs": [],
   "source": [
    "# General paths and constants\n",
    "\n",
    "general_uri = 's3://gfw2-data/forest_change/GLAD_Europe_height_data/'\n",
    "\n",
    "local_out_dir = 'C:\\\\GIS\\\\Carbon_model_Europe\\\\outputs\\\\'\n",
    "\n",
    "timestr = time.strftime(\"%Y%m%d\")\n",
    "\n",
    "tile_size = 10      # Tile size is from the top left of the tile"
   ]
  },
  {
   "cell_type": "code",
   "execution_count": null,
   "id": "9d73f9b2-1a53-4ad5-8808-a4a67b320745",
   "metadata": {},
   "outputs": [],
   "source": [
    "# To make 10x10 tiles:\n",
    "# gdalwarp from subprocess.check_call(cmd) isn't working\n",
    "# cmd = ['gdalwarp', '-tr', '0.00025', '0.00025', '-co', 'COMPRESS=DEFLATE', '-tap', '-te', str(10), str(49), str(11), str(50), '-dstnodata', '0', '-t_srs', 'EPSG:4326', \n",
    "#        '-overwrite', '-progress', '/vsis3/gfw2-data/forest_change/GLAD_Europe_height_data/202307_revision/FH_2021.tif', 'C:\\\\GIS\\\\Carbon_model_Europe\\\\outputs\\\\50N_010E_FH_2021.tif']\n",
    "# check_call(cmd)\n",
    "# gdalwarp -tr 0.00025 0.00025 -co COMPRESS=DEFLATE -tap -te 10 40 20 50 -dstnodata 0 -t_srs EPSG:4326 -overwrite /vsis3/gfw2-data/forest_change/GLAD_Europe_height_data/202307_revision/FH_2021.tif 50N_010E_FH_2021.tif\n",
    "# gdalwarp -tr 0.00025 0.00025 -co COMPRESS=DEFLATE -tap -te 10 40 20 50 -dstnodata 0 -t_srs EPSG:4326 -overwrite /vsis3/gfw2-data/forest_change/GLAD_Europe_height_data/202307_revision/FH_2020.tif 50N_010E_FH_2020.tif\n",
    "# gdalwarp -tr 0.00025 0.00025 -co COMPRESS=DEFLATE -tap -te 10 40 20 50 -dstnodata 0 -t_srs EPSG:4326 -overwrite /vsis3/gfw2-data/forest_change/GLAD_Europe_height_data/202307_revision/FH_2019.tif 50N_010E_FH_2019.tif\n",
    "# gdalwarp -tr 0.00025 0.00025 -co COMPRESS=DEFLATE -tap -te 10 40 20 50 -dstnodata 0 -t_srs EPSG:4326 -overwrite /vsis3/gfw2-data/forest_change/GLAD_Europe_height_data/202307_revision/FH_2018.tif 50N_010E_1FH_2018.tif\n",
    "# gdalwarp -tr 0.00025 0.00025 -co COMPRESS=DEFLATE -tap -te 10 40 20 50 -dstnodata 0 -t_srs EPSG:4326 -overwrite /vsis3/gfw2-data/forest_change/GLAD_Europe_height_data/202307_revision/DFL_2021.tif 50N_010E_DFL_2021.tif\n",
    "# gdalwarp -tr 0.00025 0.00025 -co COMPRESS=DEFLATE -tap -te 10 40 20 50 -dstnodata 0 -t_srs EPSG:4326 -overwrite /vsis3/gfw2-data/forest_change/GLAD_Europe_height_data/202307_revision/DFL_2020.tif 50N_010E_DFL_2020.tif\n",
    "# gdalwarp -tr 0.00025 0.00025 -co COMPRESS=DEFLATE -tap -te 10 40 20 50 -dstnodata 0 -t_srs EPSG:4326 -overwrite /vsis3/gfw2-data/forest_change/GLAD_Europe_height_data/202307_revision/DFL_2019.tif 50N_010E_DFL_2019.tif\n",
    "# gdalwarp -tr 0.00025 0.00025 -co COMPRESS=DEFLATE -tap -te 10 40 20 50 -dstnodata 0 -t_srs EPSG:4326 -overwrite /vsis3/gfw2-data/forest_change/GLAD_Europe_height_data/202307_revision/DFL_2018.tif 50N_010E_DFL_2018.tif\n",
    "# gdalwarp -tr 0.00025 0.00025 -co COMPRESS=DEFLATE -tap -te 10 40 20 50 -dstnodata 0 -t_srs EPSG:4326 -overwrite /vsis3/gfw2-data/climate/carbon_model/other_emissions_inputs/tree_cover_loss_drivers/processed/drivers_2022/20230407/50N_010E_tree_cover_loss_driver_processed.tif 50N_010E_1deg_tree_cover_loss_driver_processed.tif\n",
    "# gdalwarp -tr 0.00025 0.00025 -co COMPRESS=DEFLATE -tap -te 10 40 20 50 -dstnodata 0 -t_srs EPSG:4326 -overwrite /vsis3/gfw2-data/climate/carbon_model/other_emissions_inputs/tree_cover_loss_fires/20230315/processed/50N_010E_tree_cover_loss_fire_processed.tif 50N_010E_1deg_tree_cover_loss_fire_processed.tif\n",
    "# gdalwarp -tr 0.00025 0.00025 -co COMPRESS=DEFLATE -tap -te 10 40 20 50 -dstnodata 0 -t_srs EPSG:4326 -overwrite /vsis3/gfw2-data/climate/carbon_model/other_emissions_inputs/peatlands/processed/20230315/50N_010E_peat_mask_processed.tif 50N_010E_1deg_peat_mask_processed.tif\n"
   ]
  },
  {
   "cell_type": "code",
   "execution_count": 10,
   "id": "2bea3ff7-3c4e-49dc-8df8-8e26442a3da4",
   "metadata": {},
   "outputs": [],
   "source": [
    "# To make dummy forest height 10x10 tiles with random integers. Need to change the new_raster_path to make different years. \n",
    "# existing_raster_path can be reused for different years\n",
    "\n",
    "existing_raster_path = forest_height_previous_uri = f'{general_uri}202307_revision/test_10x10_deg/50N_010E_FH_2020.tif'\n",
    "\n",
    "new_raster_path = f'{local_out_dir}50N_010E_FH_2017_random_data.tif'\n",
    "\n",
    "with rasterio.open(existing_raster_path) as src:\n",
    "\n",
    "    profile = src.profile\n",
    "       \n",
    "    data = np.random.randint(0, 27, (profile['height'], profile['width']))\n",
    "\n",
    "    # # Create the new raster file using the metadata from the existing raster\n",
    "    with rasterio.open(new_raster_path, 'w', **profile) as dst:\n",
    "        dst.write(data, 1)  # Write the empty array to the new raster"
   ]
  },
  {
   "cell_type": "code",
   "execution_count": 10,
   "id": "cd275aa7-2d2d-4f93-875d-cacd4201ddd0",
   "metadata": {},
   "outputs": [],
   "source": [
    "# To make dummy other input 10x10 tiles with random integers\n",
    "\n",
    "# existing_raster_path = f'{general_uri}202307_revision/test_10x10_deg/50N_010E_DFL_2018.tif'\n",
    "# new_raster_path = f'{local_out_dir}50N_010E_DFL_2018_random_data.tif'\n",
    "\n",
    "# existing_raster_path = \"s3://gfw2-data/climate/carbon_model/other_emissions_inputs/tree_cover_loss_drivers/processed/drivers_2022/20230407/50N_010E_tree_cover_loss_driver_processed.tif\"\n",
    "# new_raster_path = f'{local_out_dir}50N_010E_tree_cover_loss_driver_processed_random_data.tif'\n",
    "\n",
    "# existing_raster_path = \"s3://gfw2-data/climate/carbon_model/other_emissions_inputs/planted_forest_type/SDPT_v1/standard/20200730/50N_010E_plantation_type_oilpalm_woodfiber_other_unmasked.tif\"\n",
    "# new_raster_path = f'{local_out_dir}50N_010E_plantation_type_oilpalm_woodfiber_other_unmasked_random_data.tif'\n",
    "\n",
    "# existing_raster_path = \"s3://gfw2-data/climate/carbon_model/other_emissions_inputs/peatlands/processed/20230315/50N_010E_peat_mask_processed.tif\"\n",
    "# new_raster_path = f'{local_out_dir}50N_010E_peat_mask_processed_random_data.tif'\n",
    "\n",
    "# existing_raster_path = \"s3://gfw2-data/climate/carbon_model/other_emissions_inputs/tree_cover_loss_fires/20230315/processed/50N_010E_tree_cover_loss_fire_processed.tif\"\n",
    "# new_raster_path = f'{local_out_dir}50N_010E_tree_cover_loss_fire_processed_random_data.tif'\n",
    "\n",
    "existing_raster_path = \"s3://gfw2-data/climate/carbon_model/other_emissions_inputs/burn_year/burn_year_10x10_clip/ba_2021_50N_010E.tif\"\n",
    "new_raster_path = f'{local_out_dir}50N_010E_burned_area_2017_random_data.tif'\n",
    "\n",
    "with rasterio.open(existing_raster_path) as src:\n",
    "\n",
    "    profile = src.profile\n",
    "       \n",
    "    # data = np.random.randint(0, 2, (profile['height'], profile['width']))   # existing_raster_path = f'{general_uri}202307_revision/test_10x10_deg/50N_010E_DFL_2020.tif'\n",
    "    # data = np.random.randint(0, 6, (profile['height'], profile['width']))   # existing_raster_path = \"s3://gfw2-data/climate/carbon_model/other_emissions_inputs/tree_cover_loss_drivers/processed/drivers_2022/20230407/50N_010E_tree_cover_loss_driver_processed.tif\"\n",
    "    # data = np.random.randint(0, 4, (profile['height'], profile['width']))   # existing_raster_path = \"s3://gfw2-data/climate/carbon_model/other_emissions_inputs/planted_forest_type/SDPT_v1/standard/20200730/50N_010E_plantation_type_oilpalm_woodfiber_other_unmasked.tif\"\n",
    "    # data = np.random.randint(0, 2, (profile['height'], profile['width']))   # existing_raster_path = \"s3://gfw2-data/climate/carbon_model/other_emissions_inputs/peatlands/processed/20230315/50N_010E_peat_mask_processed.tif\"\n",
    "    # data = np.random.randint(0, 22, (profile['height'], profile['width']))  # existing_raster_path = \"s3://gfw2-data/climate/carbon_model/other_emissions_inputs/tree_cover_loss_fires/20230315/processed/50N_010E_tree_cover_loss_fire_processed.tif\"\n",
    "    data = np.random.randint(0, 2, (profile['height'], profile['width']))   # existing_raster_path = \"s3://gfw2-data/climate/carbon_model/other_emissions_inputs/burn_year/burn_year_10x10_clip/ba_2021_50N_010E.tif\"\n",
    "    \n",
    "    # # Create the new raster file using the metadata from the existing raster\n",
    "    with rasterio.open(new_raster_path, 'w', **profile) as dst:\n",
    "        dst.write(data, 1)  # Write the empty array to the new raster"
   ]
  }
 ],
 "metadata": {
  "kernelspec": {
   "display_name": "Python 3 (ipykernel)",
   "language": "python",
   "name": "python3"
  },
  "language_info": {
   "codemirror_mode": {
    "name": "ipython",
    "version": 3
   },
   "file_extension": ".py",
   "mimetype": "text/x-python",
   "name": "python",
   "nbconvert_exporter": "python",
   "pygments_lexer": "ipython3",
   "version": "3.10.6"
  }
 },
 "nbformat": 4,
 "nbformat_minor": 5
}
