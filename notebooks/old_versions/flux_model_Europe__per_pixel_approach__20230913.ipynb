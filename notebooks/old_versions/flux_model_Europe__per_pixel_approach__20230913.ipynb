{
 "cells": [
  {
   "cell_type": "code",
   "execution_count": null,
   "id": "26fdcdc6",
   "metadata": {},
   "outputs": [],
   "source": [
    "import os\n",
    "os.environ['USE_PYGEOS'] = '0'   # Suppresses some warning about geopandas\n",
    "import geopandas as gpd\n",
    "\n",
    "# scipy basics\n",
    "import numpy as np\n",
    "import botocore\n",
    "from osgeo import gdal      # Necessary to do this import to get rasterio to import\n",
    "import rasterio as rio\n",
    "import rasterio.features\n",
    "\n",
    "import time\n",
    "\n",
    "# dask/parallelization libraries\n",
    "import coiled\n",
    "import dask\n",
    "import dask.array as dar\n",
    "from dask.distributed import Client, LocalCluster\n",
    "import rioxarray\n",
    "import xarray as xr\n",
    "import xrspatial.local"
   ]
  },
  {
   "cell_type": "markdown",
   "id": "f733b815",
   "metadata": {},
   "source": [
    "<font size=\"6\">Making cloud and local clusters</font> "
   ]
  },
  {
   "cell_type": "code",
   "execution_count": null,
   "id": "9d709e1f",
   "metadata": {},
   "outputs": [],
   "source": [
    "coiled_cluster = coiled.Cluster(\n",
    "    n_workers=6,\n",
    "    use_best_zone=True, \n",
    "    compute_purchase_option=\"spot_with_fallback\",\n",
    "    idle_timeout=\"20 minutes\",\n",
    "    # name=\"DGibbs Europe height flux model\", \n",
    "    account='jterry64'   # Necessary to use the AWS environment that Justin set up in Coiled\n",
    ")"
   ]
  },
  {
   "cell_type": "code",
   "execution_count": null,
   "id": "a68159d8",
   "metadata": {},
   "outputs": [],
   "source": [
    "# Coiled cluster (cloud run)\n",
    "coiled_client = coiled_cluster.get_client()\n",
    "coiled_client"
   ]
  },
  {
   "cell_type": "code",
   "execution_count": null,
   "id": "870a22e6",
   "metadata": {},
   "outputs": [],
   "source": [
    "# # Local cluster (local run). Doesn't work-- .compute() method kill workers for unknown reasons. Can't use for now.\n",
    "# # local_cluster = LocalCluster(silence_logs=False)\n",
    "# local_cluster = LocalCluster()\n",
    "# local_client = Client(local_cluster)"
   ]
  },
  {
   "cell_type": "code",
   "execution_count": null,
   "id": "76bb5b76",
   "metadata": {},
   "outputs": [],
   "source": [
    "# Local single-process cluster (local run). Will run .compute() on just one process, not a whole cluster.\n",
    "local_client = Client(processes=False)\n",
    "local_client"
   ]
  },
  {
   "cell_type": "markdown",
   "id": "75c692cc",
   "metadata": {},
   "source": [
    "<font size=\"6\">Shutting down cloud and local clusters</font> "
   ]
  },
  {
   "cell_type": "code",
   "execution_count": null,
   "id": "9e3f88c4",
   "metadata": {},
   "outputs": [],
   "source": [
    "coiled_cluster.shutdown()"
   ]
  },
  {
   "cell_type": "code",
   "execution_count": null,
   "id": "6b1f4dd6",
   "metadata": {},
   "outputs": [],
   "source": [
    "local_client.shutdown()"
   ]
  },
  {
   "cell_type": "markdown",
   "id": "4a4b751d",
   "metadata": {},
   "source": [
    "<font size=\"6\">Analysis</font> "
   ]
  },
  {
   "cell_type": "markdown",
   "id": "a4b40955",
   "metadata": {},
   "source": [
    "<font size=\"4\">Paths and functions</font>"
   ]
  },
  {
   "cell_type": "code",
   "execution_count": null,
   "id": "96f6406a",
   "metadata": {},
   "outputs": [],
   "source": [
    "# General paths and constants\n",
    "\n",
    "general_uri = 's3://gfw2-data/forest_change/GLAD_Europe_height_data/'\n",
    "\n",
    "random_data_uri = 's3://gfw2-data/forest_change/GLAD_Europe_height_data/dummy_random_data__20230901/'\n",
    "\n",
    "local_out_dir = 'C:\\\\GIS\\\\Carbon_model_Europe\\\\outputs\\\\'\n",
    "\n",
    "timestr = time.strftime(\"%Y%m%d\")\n",
    "\n",
    "tile_size = 10      # Tile size in degrees is from the top left of the tile. 10 is a full tile. Anything smaller is a subset of that."
   ]
  },
  {
   "cell_type": "code",
   "execution_count": null,
   "id": "7345e3c2",
   "metadata": {},
   "outputs": [],
   "source": [
    "# Reads tile\n",
    "# From https://notebooks-staging.wri.org/user/dagibbs22/lab/tree/msims/biodiversity_global_stats.ipynb\n",
    "# Bounding box use comes from https://github.com/corteva/rioxarray/issues/115#issuecomment-1206673437 and https://corteva.github.io/rioxarray/html/examples/clip_box.html. \n",
    "\n",
    "# Tile size is from the top left of the tile\n",
    "def get_tile_dataset(uri, name, template=None, tile_size=10):\n",
    "    # If the input tile_size is too large, it reverts to 10 (standard tile size)\n",
    "    if tile_size > 10:\n",
    "        tile_size = 10\n",
    "    try:\n",
    "        raster = rioxarray.open_rasterio(uri, chunks=4000, default_name=name)\n",
    "        raster_extent = raster.rio.bounds()\n",
    "        minx=raster_extent[0]\n",
    "        miny=raster_extent[1]\n",
    "        maxx=raster_extent[2]\n",
    "        maxy=raster_extent[3]\n",
    "        return raster.rio.clip_box(minx=minx, miny=maxy-tile_size, maxx=minx+tile_size, maxy=maxy)\n",
    "    except rasterio.errors.RasterioIOError as e:\n",
    "        if template is not None:\n",
    "            return xr.zeros_like(template)\n",
    "        else:\n",
    "            raise e"
   ]
  },
  {
   "cell_type": "code",
   "execution_count": null,
   "id": "c46f7bba",
   "metadata": {},
   "outputs": [],
   "source": [
    "# Make a class that encapsulates all the pixel data passed into the decision tree for classification. \n",
    "# This makes it much easier to read how the decision tree uses the pixel data. \n",
    "# Also a place to do any modifications to the input data or add additional fields based off of the input data.\n",
    "# The WRI engineers I've worked with have advised this for its flexibility. \n",
    "\n",
    "class ForestStateDecisionFactors:\n",
    "    def __init__(self, forest_height_previous, forest_height_current, forest_loss_detection, driver, planted_forest_type, peat, fire_recent):\n",
    "        self.forest_height_previous = forest_height_previous\n",
    "        self.forest_height_current = forest_height_current\n",
    "        self.forest_loss_detection = forest_loss_detection\n",
    "        self.driver = driver \n",
    "        self.planted_forest_type = planted_forest_type\n",
    "        self.peat = peat\n",
    "        self.fire_recent = fire_recent"
   ]
  },
  {
   "cell_type": "code",
   "execution_count": null,
   "id": "84658c9b",
   "metadata": {},
   "outputs": [],
   "source": [
    "# Decision tree for assigning forest classes (sample). \n",
    "# Takes the above decision factors class, which includes all the data in input layers at one pixel, and classifes it using the decision tree logic.\n",
    "\n",
    "class ForestStateDecisionTree:\n",
    "    def classify(self, forestStateDecisionFactors):\n",
    "        if forestStateDecisionFactors.forest_height_previous >= 5 and forestStateDecisionFactors.forest_height_current >= 5:   # maintained\n",
    "            return 1\n",
    "        elif forestStateDecisionFactors.forest_height_previous >= 5 and forestStateDecisionFactors.forest_height_current < 5:  # loss\n",
    "            return 2\n",
    "        elif forestStateDecisionFactors.forest_height_previous < 5 and forestStateDecisionFactors.forest_height_current >= 5:  # gain\n",
    "            return 3\n",
    "        else:                                                                                                       # no forest\n",
    "            return 0"
   ]
  },
  {
   "cell_type": "code",
   "execution_count": null,
   "id": "cb855871-568a-4760-aaa1-26d5b21278f5",
   "metadata": {},
   "outputs": [],
   "source": [
    "# Logic for whether loss is in peat\n",
    "class LossInPeat():\n",
    "  def __init__(self, no_peat, peat):\n",
    "    self.no_peat = no_peat\n",
    "    self.peat = peat\n",
    "  \n",
    "  def classify(self, forest_state_decision_factors):\n",
    "    if forest_state_decision_factors.peat == 0:\n",
    "      return 'NoPeat'\n",
    "    else:\n",
    "      return 'Peat'\n",
    "\n",
    "loss_in_peat = LossInPeat(\n",
    "    no_peat=None,\n",
    "    peat=None\n",
    ")"
   ]
  },
  {
   "cell_type": "code",
   "execution_count": null,
   "id": "83216145-82a0-4f3e-b21a-72818298d965",
   "metadata": {},
   "outputs": [],
   "source": [
    "# Logic for what forest changed occurred\n",
    "class ForestChange():\n",
    "  def __init__(self, maintained, lost, gained):\n",
    "    self.maintained = maintained\n",
    "    self.lost = lost\n",
    "    self.gained = gained\n",
    "  \n",
    "  def classify(self, forest_state_decision_factors):\n",
    "    if forest_state_decision_factors.forest_height_previous >= 5 and forest_state_decision_factors.forest_height_current >= 5:   # maintained\n",
    "        return 1\n",
    "    elif forest_state_decision_factors.forest_height_previous >= 5 and forest_state_decision_factors.forest_height_current < 5:  # loss\n",
    "        return 2\n",
    "    elif forest_state_decision_factors.forest_height_previous < 5 and forest_state_decision_factors.forest_height_current >= 5:  # gain\n",
    "        return 3\n",
    "    else:                                                                                                       # no forest\n",
    "        return 0\n",
    "\n",
    "forest_change = ForestChange(\n",
    "    maintained=None,\n",
    "    lost=None,\n",
    "    gained=None\n",
    ")"
   ]
  },
  {
   "cell_type": "code",
   "execution_count": null,
   "id": "fef5a72e-505e-4c3a-be49-4c375f6e8f22",
   "metadata": {},
   "outputs": [],
   "source": [
    "class RecentFire():\n",
    "  def __init__(self, no_fire_recent, fire_recent):\n",
    "    self.no_fire_recent = no_fire_recent\n",
    "    self.fire_recent = fire_recent\n",
    "  \n",
    "  def classify(self, forest_state_decision_factors):\n",
    "    if forest_state_decision_factors.fire_recent == 0:\n",
    "      return 'NoFire:' + self.fire_recent.classify(forest_state_decision_factors)\n",
    "    else:\n",
    "      return 'Fire:' + self.fire_recent.classify(forest_state_decision_factors)\n",
    "\n",
    "recent_fire = RecentFire(\n",
    "  no_fire_recent=LossInPeat(\n",
    "    no_peat=None,\n",
    "    peat=None),\n",
    "  fire_recent=LossInPeat(\n",
    "    no_peat=None,\n",
    "    peat=None)\n",
    ")"
   ]
  },
  {
   "cell_type": "code",
   "execution_count": null,
   "id": "6696b7ab-bd33-4d05-97c4-b13673e275ab",
   "metadata": {},
   "outputs": [],
   "source": [
    "class ForestStateDecisionTree_v2:\n",
    "    def classify_v2(self, forestStateDecisionFactors):\n",
    "        recent_fire = RecentFire(\n",
    "          no_fire_recent=LossInPeat(\n",
    "            no_peat=None,\n",
    "            peat=None),\n",
    "          fire_recent=LossInPeat(\n",
    "            no_peat=None,\n",
    "            peat=None)\n",
    "    )"
   ]
  },
  {
   "cell_type": "markdown",
   "id": "70c92617",
   "metadata": {},
   "source": [
    "<font size=\"4\">Model steps</font>"
   ]
  },
  {
   "cell_type": "code",
   "execution_count": null,
   "id": "21b9f0dc",
   "metadata": {},
   "outputs": [],
   "source": [
    "# Input file locations\n",
    "\n",
    "# Using 10x10 degree rasters of actual data\n",
    "forest_height_previous_uri = f'{general_uri}202307_revision/test_10x10_deg/50N_010E_FH_2020.tif'\n",
    "forest_height_current_uri = f'{general_uri}202307_revision/test_10x10_deg/50N_010E_FH_2021.tif'\n",
    "forest_loss_detection_uri = f'{general_uri}202307_revision/test_10x10_deg/50N_010E_DFL_2021.tif'\n",
    "\n",
    "driver_uri = \"s3://gfw2-data/climate/carbon_model/other_emissions_inputs/tree_cover_loss_drivers/processed/drivers_2022/20230407/50N_010E_tree_cover_loss_driver_processed.tif\"\n",
    "planted_forest_type_uri = \"s3://gfw2-data/climate/carbon_model/other_emissions_inputs/planted_forest_type/SDPT_v1/standard/20200730/50N_010E_plantation_type_oilpalm_woodfiber_other_unmasked.tif\"\n",
    "peat_uri = \"s3://gfw2-data/climate/carbon_model/other_emissions_inputs/peatlands/processed/20230315/50N_010E_peat_mask_processed.tif\"\n",
    "fire_recent_uri = \"s3://gfw2-data/climate/carbon_model/other_emissions_inputs/tree_cover_loss_fires/20230315/processed/50N_010E_tree_cover_loss_fire_processed.tif\""
   ]
  },
  {
   "cell_type": "code",
   "execution_count": null,
   "id": "f387aac5",
   "metadata": {},
   "outputs": [],
   "source": [
    "# Reads input files\n",
    "\n",
    "forest_height_previous = get_tile_dataset(forest_height_previous_uri, name=\"forest_height_previous\", tile_size=tile_size)\n",
    "forest_height_current = get_tile_dataset(forest_height_current_uri, name=\"forest_height_current\", tile_size=tile_size)\n",
    "forest_loss_detection = get_tile_dataset(forest_loss_detection_uri, name=\"forest_loss_detection\", tile_size=tile_size)\n",
    "\n",
    "driver = get_tile_dataset(driver_uri, name=\"driver\", tile_size=tile_size)\n",
    "planted_forest_type = get_tile_dataset(planted_forest_type_uri, name=\"planted_forest_type\", tile_size=tile_size)\n",
    "peat = get_tile_dataset(peat_uri, name=\"peat\", tile_size=tile_size)\n",
    "fire_recent = get_tile_dataset(fire_recent_uri, name=\"fire_recent\", tile_size=tile_size)"
   ]
  },
  {
   "cell_type": "code",
   "execution_count": null,
   "id": "35198ee4",
   "metadata": {
    "scrolled": true
   },
   "outputs": [],
   "source": [
    "# Combines all inputs into one xarray dataset\n",
    "\n",
    "decision_tree_ds = xr.Dataset({\n",
    "    \"forest_height_previous\": forest_height_previous, \n",
    "    \"forest_height_current\": forest_height_current,\n",
    "    \"forest_loss_detection\": forest_loss_detection,\n",
    "    \"driver\": driver,\n",
    "    \"planted_forest_type\": planted_forest_type,\n",
    "    \"peat\": peat,\n",
    "    \"fire_recent\": fire_recent\n",
    "})\n",
    "\n",
    "decision_tree_ds"
   ]
  },
  {
   "cell_type": "code",
   "execution_count": null,
   "id": "cfe0ebd8",
   "metadata": {},
   "outputs": [],
   "source": [
    "%%time\n",
    "\n",
    "\"\"\"\n",
    "Some code that applies the decision tree to decision_tree_ds to make an xarray of forest_states for the previous and current years\n",
    "\"\"\"\n",
    "\n",
    "def classify(row):\n",
    "    if row.size == 0:\n",
    "        return 0\n",
    "    else:\n",
    "        print(row)\n",
    "        # return loss_in_peat.classify(ForestStateDecisionFactors(*row))\n",
    "        # return forest_change.classify(ForestStateDecisionFactors(*row))\n",
    "        # return recent_fire.classify(ForestStateDecisionFactors(*row))\n",
    "        # return ForestStateDecisionTree_v2().classify_v2(ForestStateDecisionFactors(*row))\n",
    "        return ForestStateDecisionTree().classify(ForestStateDecisionFactors(*row))           # Justin's original invocation\n",
    "\n",
    "\n",
    "def map_blocks(block):\n",
    "    df = block.to_dataframe(dim_order=[\"band\", \"x\", \"y\"]).drop(columns=\"spatial_ref\")\n",
    "    classified_df = df.apply(classify, axis=1)\n",
    "    xarr = classified_df.to_xarray()\n",
    "    return xarr\n",
    "\n",
    "forest_states = decision_tree_ds.map_blocks(map_blocks).compute()\n",
    "forest_states"
   ]
  },
  {
   "cell_type": "code",
   "execution_count": null,
   "id": "b3b2a00e-f1fe-4f34-a33c-654d3b9d1daa",
   "metadata": {},
   "outputs": [],
   "source": [
    "forest_states_corrected = forest_states.transpose('band', 'y', 'x')   # Had to add because exporting to raster showed error about columns being transposed\n",
    "forest_states_corrected.rio.set_crs(\"EPSG:4326\")   # Had to add to get coordinate system for output raster"
   ]
  },
  {
   "cell_type": "code",
   "execution_count": null,
   "id": "071ec035",
   "metadata": {},
   "outputs": [],
   "source": [
    "# Exports forest state array to raster\n",
    "\n",
    "forest_states_corrected.rio.to_raster(f'{local_out_dir}forest_states_2021__{timestr}_{tile_size}_deg.tif', compress='DEFLATE', dtype='uint8')"
   ]
  }
 ],
 "metadata": {
  "kernelspec": {
   "display_name": "Python 3 (ipykernel)",
   "language": "python",
   "name": "python3"
  },
  "language_info": {
   "codemirror_mode": {
    "name": "ipython",
    "version": 3
   },
   "file_extension": ".py",
   "mimetype": "text/x-python",
   "name": "python",
   "nbconvert_exporter": "python",
   "pygments_lexer": "ipython3",
   "version": "3.11.4"
  }
 },
 "nbformat": 4,
 "nbformat_minor": 5
}
